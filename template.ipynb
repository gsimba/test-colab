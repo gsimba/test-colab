{
  "nbformat": 4,
  "nbformat_minor": 0,
  "metadata": {
    "colab": {
      "provenance": [],
      "toc_visible": true,
      "authorship_tag": "ABX9TyNCnQndlXiOBSEtEWbSZojq",
      "include_colab_link": true
    },
    "kernelspec": {
      "name": "python3",
      "display_name": "Python 3"
    },
    "language_info": {
      "name": "python"
    }
  },
  "cells": [
    {
      "cell_type": "markdown",
      "metadata": {
        "id": "view-in-github",
        "colab_type": "text"
      },
      "source": [
        "<a href=\"https://colab.research.google.com/github/gsimba/test-colab/blob/main/template.ipynb\" target=\"_parent\"><img src=\"https://colab.research.google.com/assets/colab-badge.svg\" alt=\"Open In Colab\"/></a>"
      ]
    },
    {
      "cell_type": "markdown",
      "source": [
        "### Sales Example"
      ],
      "metadata": {
        "id": "NxMyRFXBTOvk"
      }
    },
    {
      "cell_type": "code",
      "source": [
        "#@title\n",
        "sales = 20000\n",
        "tax_rate = .24\n",
        "gross_income = sales * tax_rate"
      ],
      "metadata": {
        "id": "SdPCx4n7Q_PC"
      },
      "execution_count": 96,
      "outputs": []
    },
    {
      "cell_type": "code",
      "source": [
        "print(\"Gross income =\", gross_income)"
      ],
      "metadata": {
        "id": "lfWHu9o7SUtm",
        "outputId": "e16168c2-b736-4963-8ed5-bc3bba8d120d",
        "colab": {
          "base_uri": "https://localhost:8080/"
        }
      },
      "execution_count": 94,
      "outputs": [
        {
          "output_type": "stream",
          "name": "stdout",
          "text": [
            "Gross income = 4800.0\n"
          ]
        }
      ]
    },
    {
      "cell_type": "markdown",
      "source": [
        "###Summary"
      ],
      "metadata": {
        "id": "eNNEow-XTyob"
      }
    },
    {
      "cell_type": "code",
      "source": [
        "print(\"Q2 Sales = \", gross_income)"
      ],
      "metadata": {
        "id": "Ik_OzGXhUrg0",
        "outputId": "5f2ef06a-9bb3-428d-c6ee-5de2438dfe7b",
        "colab": {
          "base_uri": "https://localhost:8080/"
        }
      },
      "execution_count": 95,
      "outputs": [
        {
          "output_type": "stream",
          "name": "stdout",
          "text": [
            "Q2 Sales =  4800.0\n"
          ]
        }
      ]
    }
  ]
}